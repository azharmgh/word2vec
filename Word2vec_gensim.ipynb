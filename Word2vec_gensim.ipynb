{
 "cells": [
  {
   "cell_type": "code",
   "execution_count": 2,
   "metadata": {},
   "outputs": [
    {
     "name": "stderr",
     "output_type": "stream",
     "text": [
      "C:\\Users\\azhar\\AppData\\local\\AmlWorkbench\\Python\\lib\\site-packages\\gensim\\utils.py:1167: UserWarning: detected Windows; aliasing chunkize to chunkize_serial\n",
      "  warnings.warn(\"detected Windows; aliasing chunkize to chunkize_serial\")\n"
     ]
    },
    {
     "name": "stdout",
     "output_type": "stream",
     "text": [
      "Word2Vec(vocab=14, size=100, alpha=0.025)\n",
      "['yet', 'the', 'another', 'more', 'sentence', 'for', 'this', 'word2vec', 'one', 'is', 'second', 'first', 'final', 'and']\n",
      "[ 0.00326     0.00231504  0.004095    0.0034151  -0.00206833  0.00212924\n",
      " -0.0032663   0.0033689   0.00406157  0.00017428 -0.00491921  0.00093139\n",
      " -0.00390238 -0.00235437  0.00023629  0.00391557 -0.00230801  0.00078091\n",
      " -0.00157759 -0.00194839 -0.00307066  0.00200724  0.00089629  0.00085311\n",
      "  0.00413116 -0.00209542  0.00061621  0.00049795 -0.00211281 -0.00035657\n",
      "  0.00490829  0.00463095 -0.00031937  0.00408127 -0.00412728 -0.00471858\n",
      " -0.00293727 -0.00314413 -0.00079591  0.00388273  0.00480248  0.00386319\n",
      " -0.00214922 -0.00274    -0.00272946  0.00107013  0.00053363 -0.00412272\n",
      "  0.00310742 -0.00404879 -0.00042651  0.00191145 -0.00300638  0.00163259\n",
      " -0.0032756  -0.00470135  0.00042807 -0.00409373  0.00408029  0.00445211\n",
      " -0.00198598  0.002887   -0.00185813 -0.00374435  0.00323904  0.00420606\n",
      " -0.00221808  0.00190397  0.00319443 -0.00450947 -0.00458719  0.00307212\n",
      " -0.00372685 -0.00332432  0.00447019 -0.00295134 -0.00437593 -0.00208009\n",
      " -0.00047412 -0.00193709 -0.00429985  0.00487816 -0.00295498  0.00197197\n",
      "  0.00027142 -0.00294017  0.00429009  0.00158749  0.00329352 -0.00181299\n",
      " -0.00037017 -0.00032     0.00166935  0.00133554 -0.00464351  0.00471451\n",
      " -0.00208435 -0.00027168 -0.00034235  0.00182311]\n"
     ]
    },
    {
     "name": "stderr",
     "output_type": "stream",
     "text": [
      "C:\\Users\\azhar\\AppData\\local\\AmlWorkbench\\Python\\lib\\site-packages\\ipykernel_launcher.py:16: DeprecationWarning: Call to deprecated `__getitem__` (Method will be removed in 4.0.0, use self.wv.__getitem__() instead).\n",
      "  app.launch_new_instance()\n"
     ]
    }
   ],
   "source": [
    "from gensim.models import Word2Vec\n",
    "# define training data\n",
    "sentences = [['this', 'is', 'the', 'first', 'sentence', 'for', 'word2vec'],\n",
    "            ['this', 'is', 'the', 'second', 'sentence'],\n",
    "            ['yet', 'another', 'sentence'],\n",
    "            ['one', 'more', 'sentence'],\n",
    "            ['and', 'the', 'final', 'sentence']]\n",
    "# train model\n",
    "model = Word2Vec(sentences, min_count=1)\n",
    "# summarize the loaded model\n",
    "print(model)\n",
    "# summarize vocabulary\n",
    "words = list(model.wv.vocab)\n",
    "print(words)\n",
    "# access vector for one word\n",
    "print(model['sentence'])\n"
   ]
  },
  {
   "cell_type": "code",
   "execution_count": 3,
   "metadata": {},
   "outputs": [
    {
     "name": "stdout",
     "output_type": "stream",
     "text": [
      "Word2Vec(vocab=14, size=100, alpha=0.025)\n"
     ]
    }
   ],
   "source": [
    "# save model\n",
    "model.save('model.bin')\n",
    "# load model\n",
    "new_model = Word2Vec.load('model.bin')\n",
    "print(new_model)"
   ]
  },
  {
   "cell_type": "code",
   "execution_count": 4,
   "metadata": {
    "scrolled": true
   },
   "outputs": [
    {
     "name": "stderr",
     "output_type": "stream",
     "text": [
      "C:\\Users\\azhar\\AppData\\local\\AmlWorkbench\\Python\\lib\\site-packages\\ipykernel_launcher.py:4: DeprecationWarning: Call to deprecated `__getitem__` (Method will be removed in 4.0.0, use self.wv.__getitem__() instead).\n",
      "  after removing the cwd from sys.path.\n"
     ]
    },
    {
     "data": {
      "text/plain": [
       "<matplotlib.figure.Figure at 0x19b966b9b38>"
      ]
     },
     "metadata": {},
     "output_type": "display_data"
    }
   ],
   "source": [
    "from sklearn.decomposition import PCA\n",
    "from matplotlib import pyplot\n",
    "\n",
    "X = model[model.wv.vocab]\n",
    "pca = PCA(n_components=2)\n",
    "result = pca.fit_transform(X)\n",
    "# create a scatter plot of the projection\n",
    "pyplot.scatter(result[:, 0], result[:, 1])\n",
    "words = list(model.wv.vocab)\n",
    "for i, word in enumerate(words):\n",
    "    pyplot.annotate(word, xy=(result[i, 0], result[i, 1]))\n",
    "pyplot.show()"
   ]
  },
  {
   "cell_type": "code",
   "execution_count": 5,
   "metadata": {},
   "outputs": [],
   "source": [
    "import _pickle as pickle\n",
    "FN0 = 'tokens' # this is the name of the data file which I assume you already have\n",
    "#with open('/home/azhar/notebooks/How_to_make_a_text_summarizer/data/%s.pkl'%FN0, 'rb') as fp:\n",
    "with open('%s.pkl'%FN0, 'rb') as fp:\n",
    "    heads, desc = pickle.load(fp) # keywords are not used in this project\n",
    "    \n",
    "\n"
   ]
  },
  {
   "cell_type": "code",
   "execution_count": 6,
   "metadata": {},
   "outputs": [
    {
     "data": {
      "text/plain": [
       "'Worcester breakfast club for veterans gives hunger its marching orders'"
      ]
     },
     "execution_count": 6,
     "metadata": {},
     "output_type": "execute_result"
    }
   ],
   "source": [
    "heads[0]"
   ]
  },
  {
   "cell_type": "code",
   "execution_count": 7,
   "metadata": {},
   "outputs": [
    {
     "data": {
      "text/plain": [
       "'VETERANS saluted Worcester\\'s first ever breakfast club for ex-soldiers which won over hearts, minds and bellies. \\n \\nThe Worcester Breakfast Club for HM Forces Veterans met at the Postal Order in Foregate Street at 10am on Saturday. \\n \\nThe club is designed to allow veterans a place to meet, socialise, eat and drink, giving hunger and loneliness their marching orders. \\n \\nFather-of-two Dave Carney, aged 43, of Merrimans Hill, Worcester, set up the club after being inspired by other similar clubs across the country. \\n \\nHe said: \"As you can see from the picture, we had a good response. Five out of the 10 that attended said they saw the article in the newspaper and turned up. \\n \\n\"We even had an old chap travel from Droitwich and he was late on parade by three hours. \\n \\n\"It\\'s generated a lot of interest and I estimate (from other veterans who saw the article) that next month\\'s meeting will attract about 20 people. Onwards and upwards.\" \\n \\nHe said the management at the pub had been extremely hospitable to them. \\n \\nMr Carney said: \"They bent over backwards for us. They really looked after us well. That is the best choice of venue I could have made. They even put \\'reserved for the armed forces\\'. \\n   Promoted stories   \\nThe reserve veteran with the Royal Engineers wanted to go to a breakfast club but found the nearest ones were in Bromsgrove and Gloucester so he decided to set up his own, closer to home. \\n \\nHe was influenced by Derek Hardman who set up a breakfast club for veterans in Hull and Andy Wilson who set one up in Newcastle. He said the idea has snowballed and there were now 70 similar clubs across the country and even some in Germany. \\n \\nMr Carney said with many Royal British Legion clubs closing he wanted veterans and serving personnel to feel they had somewhere they could go for good grub, beer and banter to recapture the comradery of being in the forces. \\n \\nThe Postal Order was chosen because of its central location and its proximity to the railway station and hotels and reasonably priced food and drink. \\n \\nThe management of the pub have even given the veterans a designated area within the pub. \\n   \\n Share article  \\n   \\nThe next meeting is at the Postal Order on Saturday, October 3 at 10am. \\n \\nThe breakfast club meets on the first Saturday of each month for those who want to attend in future.'"
      ]
     },
     "execution_count": 7,
     "metadata": {},
     "output_type": "execute_result"
    }
   ],
   "source": [
    "desc[0]"
   ]
  },
  {
   "cell_type": "code",
   "execution_count": 8,
   "metadata": {},
   "outputs": [
    {
     "data": {
      "text/plain": [
       "(100000, 95515)"
      ]
     },
     "execution_count": 8,
     "metadata": {},
     "output_type": "execute_result"
    }
   ],
   "source": [
    "len(heads),len(set(heads))"
   ]
  },
  {
   "cell_type": "code",
   "execution_count": 9,
   "metadata": {},
   "outputs": [],
   "source": [
    "from collections import Counter\n",
    "from itertools import chain\n",
    "def get_vocab(lst):\n",
    "    vocabcount = Counter(w for txt in lst for w in txt.split())\n",
    "    vocab = map(lambda x: x[0], sorted(vocabcount.items(), key=lambda x: -x[1]))\n",
    "    return vocab, vocabcount"
   ]
  },
  {
   "cell_type": "code",
   "execution_count": 10,
   "metadata": {},
   "outputs": [],
   "source": [
    "vocab, vocabcount = get_vocab(heads+desc)"
   ]
  },
  {
   "cell_type": "code",
   "execution_count": 12,
   "metadata": {},
   "outputs": [],
   "source": [
    "#plist = list(vocab[:50])"
   ]
  },
  {
   "cell_type": "code",
   "execution_count": 13,
   "metadata": {},
   "outputs": [],
   "source": [
    "#print vocab[:50]\n",
    "#print '...',len(vocab)\n"
   ]
  },
  {
   "cell_type": "code",
   "execution_count": 14,
   "metadata": {},
   "outputs": [],
   "source": [
    " #def get_vocabulary(lst):\n",
    "        \n",
    "    "
   ]
  },
  {
   "cell_type": "code",
   "execution_count": 15,
   "metadata": {},
   "outputs": [],
   "source": [
    "textcorpus = heads+desc\n"
   ]
  },
  {
   "cell_type": "code",
   "execution_count": 16,
   "metadata": {},
   "outputs": [
    {
     "data": {
      "text/plain": [
       "'Jumpshot Gives Marketers Renewed Visibility Into Paid and Organic Keywords With Launch of Jumpshot Elite'"
      ]
     },
     "execution_count": 16,
     "metadata": {},
     "output_type": "execute_result"
    }
   ],
   "source": [
    "textcorpus[1]"
   ]
  },
  {
   "cell_type": "code",
   "execution_count": 17,
   "metadata": {},
   "outputs": [],
   "source": [
    "sentencesfromcorpus = []\n",
    "for w in textcorpus:\n",
    "    sentencesfromcorpus.append(w.split())"
   ]
  },
  {
   "cell_type": "code",
   "execution_count": 18,
   "metadata": {},
   "outputs": [
    {
     "data": {
      "text/plain": [
       "['Worcester',\n",
       " 'breakfast',\n",
       " 'club',\n",
       " 'for',\n",
       " 'veterans',\n",
       " 'gives',\n",
       " 'hunger',\n",
       " 'its',\n",
       " 'marching',\n",
       " 'orders']"
      ]
     },
     "execution_count": 18,
     "metadata": {},
     "output_type": "execute_result"
    }
   ],
   "source": [
    "sentencesfromcorpus[0]"
   ]
  },
  {
   "cell_type": "code",
   "execution_count": 19,
   "metadata": {},
   "outputs": [
    {
     "name": "stdout",
     "output_type": "stream",
     "text": [
      "Word2Vec(vocab=1296365, size=100, alpha=0.025)\n"
     ]
    }
   ],
   "source": [
    "# train model\n",
    "model2 = Word2Vec(sentencesfromcorpus, min_count=1)\n",
    "# summarize the loaded model\n",
    "print(model2)"
   ]
  },
  {
   "cell_type": "code",
   "execution_count": 20,
   "metadata": {},
   "outputs": [],
   "source": [
    "words2 = list(model2.wv.vocab)"
   ]
  },
  {
   "cell_type": "code",
   "execution_count": 21,
   "metadata": {},
   "outputs": [
    {
     "data": {
      "text/plain": [
       "1296365"
      ]
     },
     "execution_count": 21,
     "metadata": {},
     "output_type": "execute_result"
    }
   ],
   "source": [
    "len(words2)"
   ]
  },
  {
   "cell_type": "code",
   "execution_count": 22,
   "metadata": {},
   "outputs": [
    {
     "name": "stdout",
     "output_type": "stream",
     "text": [
      "[-0.57629776 -1.0870512  -0.5634879  -0.06736074  1.6869674   1.7925828\n",
      " -3.276111   -3.5523634   2.8491812  -1.692164    0.838165    2.6111956\n",
      " -0.08105137  0.4443684   2.6700644  -0.18730322 -0.79650444  1.4083225\n",
      " -2.2174397  -2.3940978   3.9649284   0.33836272  1.7814691   0.6527256\n",
      "  5.3834205   2.3782666  -0.4754594   2.149813   -1.308536    4.6058846\n",
      "  3.2730472   0.03321701  3.4363053   0.24958551  0.10029862  1.4863238\n",
      " -5.2920003  -1.5258743  -0.31259245 -2.4259226  -1.11199     1.5201849\n",
      " -0.5370391  -0.15329218 -1.1484913  -0.44972804 -3.299884   -1.1981308\n",
      "  1.1445912  -0.69873744 -1.7251983  -2.6980972  -0.49188203  3.3850863\n",
      "  3.730943    1.4269725  -2.5227575   2.6321716   4.2777157   1.7925735\n",
      " -3.0677197  -0.8678097   0.24813284  3.5118244   1.5536538   2.8596916\n",
      " -0.45804635 -4.1635394   1.5660247   0.49146888 -4.5946712  -2.6665785\n",
      "  2.522335   -0.27973455  0.0385032   4.350222    0.48406947  0.06440558\n",
      " -0.5817315  -2.1969106  -4.700903    0.610959   -0.7445886   1.7803115\n",
      " -0.62870216 -2.05538    -4.618544    3.3215163  -1.1362805  -3.5547447\n",
      " -0.6261421  -2.7768579  -0.41032887  0.10175012  1.4361792  -0.67038196\n",
      " -0.41365194 -0.43721718  3.0647805  -3.197388  ]\n"
     ]
    },
    {
     "name": "stderr",
     "output_type": "stream",
     "text": [
      "C:\\Users\\azhar\\AppData\\local\\AmlWorkbench\\Python\\lib\\site-packages\\ipykernel_launcher.py:2: DeprecationWarning: Call to deprecated `__getitem__` (Method will be removed in 4.0.0, use self.wv.__getitem__() instead).\n",
      "  \n"
     ]
    }
   ],
   "source": [
    "# access vector for one word\n",
    "print(model2['the'])"
   ]
  },
  {
   "cell_type": "code",
   "execution_count": 23,
   "metadata": {},
   "outputs": [
    {
     "name": "stderr",
     "output_type": "stream",
     "text": [
      "C:\\Users\\azhar\\AppData\\local\\AmlWorkbench\\Python\\lib\\site-packages\\ipykernel_launcher.py:1: DeprecationWarning: Call to deprecated `most_similar` (Method will be removed in 4.0.0, use self.wv.most_similar() instead).\n",
      "  \"\"\"Entry point for launching an IPython kernel.\n"
     ]
    },
    {
     "name": "stdout",
     "output_type": "stream",
     "text": [
      "[('Greece', 0.86395663022995), ('Europe', 0.8263746500015259), ('France', 0.8214837312698364), ('Austria', 0.8090680837631226), ('Germany,', 0.7929058074951172), ('Poland', 0.7888231873512268), ('Sweden', 0.7834534645080566), ('Spain', 0.7792839407920837), ('Turkey', 0.7714617252349854), ('Hungary', 0.7687651515007019)]\n"
     ]
    }
   ],
   "source": [
    "result = model2.most_similar(positive=['Germany'],topn=10)\n",
    "print(result)\n"
   ]
  },
  {
   "cell_type": "code",
   "execution_count": 24,
   "metadata": {},
   "outputs": [
    {
     "data": {
      "text/plain": [
       "[('Greece', 0.86395663022995),\n",
       " ('Europe', 0.8263746500015259),\n",
       " ('France', 0.8214837312698364),\n",
       " ('Austria', 0.8090680837631226),\n",
       " ('Germany,', 0.7929058074951172),\n",
       " ('Poland', 0.7888231873512268),\n",
       " ('Sweden', 0.7834534645080566),\n",
       " ('Spain', 0.7792839407920837),\n",
       " ('Turkey', 0.7714617252349854),\n",
       " ('Hungary', 0.7687651515007019)]"
      ]
     },
     "execution_count": 24,
     "metadata": {},
     "output_type": "execute_result"
    }
   ],
   "source": [
    "model2.wv.most_similar(positive=['Germany'],topn=10)"
   ]
  },
  {
   "cell_type": "code",
   "execution_count": 25,
   "metadata": {},
   "outputs": [
    {
     "data": {
      "text/plain": [
       "[('woman', 0.8735548257827759),\n",
       " ('boy', 0.8464454412460327),\n",
       " ('man,', 0.8384392261505127),\n",
       " ('teenager', 0.8127226829528809),\n",
       " ('girl', 0.8105109333992004),\n",
       " ('woman,', 0.7867876291275024),\n",
       " ('soldier', 0.7848383188247681),\n",
       " ('cop', 0.7804063558578491),\n",
       " ('teen', 0.7654092311859131),\n",
       " ('victim', 0.7483915686607361)]"
      ]
     },
     "execution_count": 25,
     "metadata": {},
     "output_type": "execute_result"
    }
   ],
   "source": [
    "model2.wv.most_similar(positive=['man'],topn=10)"
   ]
  },
  {
   "cell_type": "code",
   "execution_count": 26,
   "metadata": {},
   "outputs": [
    {
     "data": {
      "text/plain": [
       "[('girl', 0.8983606100082397),\n",
       " ('man', 0.8735548257827759),\n",
       " ('woman,', 0.8645122051239014),\n",
       " ('boy', 0.8542325496673584),\n",
       " ('teen', 0.809723973274231),\n",
       " ('teenager', 0.786901593208313),\n",
       " ('man,', 0.7848633527755737),\n",
       " ('mother', 0.7772193551063538),\n",
       " ('victim', 0.7764895558357239),\n",
       " ('toddler', 0.7729586958885193)]"
      ]
     },
     "execution_count": 26,
     "metadata": {},
     "output_type": "execute_result"
    }
   ],
   "source": [
    "model2.wv.most_similar(positive=['woman'],topn=10)"
   ]
  },
  {
   "cell_type": "code",
   "execution_count": 27,
   "metadata": {},
   "outputs": [
    {
     "data": {
      "text/plain": [
       "[('hero', 0.7263708114624023),\n",
       " ('queen', 0.7160669565200806),\n",
       " ('Roman', 0.6918284893035889),\n",
       " ('monarch', 0.6836207509040833),\n",
       " ('idol', 0.6735450625419617),\n",
       " ('priest', 0.6731160879135132),\n",
       " ('pastor', 0.6607558727264404),\n",
       " ('lover', 0.6579176187515259),\n",
       " ('singer', 0.6540827751159668),\n",
       " ('princess', 0.6503804922103882)]"
      ]
     },
     "execution_count": 27,
     "metadata": {},
     "output_type": "execute_result"
    }
   ],
   "source": [
    "model2.wv.most_similar(positive=['king'],topn=10)"
   ]
  },
  {
   "cell_type": "code",
   "execution_count": 28,
   "metadata": {},
   "outputs": [
    {
     "ename": "NameError",
     "evalue": "name 'king' is not defined",
     "output_type": "error",
     "traceback": [
      "\u001b[1;31m---------------------------------------------------------------------------\u001b[0m",
      "\u001b[1;31mNameError\u001b[0m                                 Traceback (most recent call last)",
      "\u001b[1;32m<ipython-input-28-85769384f2bb>\u001b[0m in \u001b[0;36m<module>\u001b[1;34m()\u001b[0m\n\u001b[1;32m----> 1\u001b[1;33m \u001b[0mqueen\u001b[0m \u001b[1;33m=\u001b[0m \u001b[1;33m(\u001b[0m\u001b[0mking\u001b[0m \u001b[1;33m-\u001b[0m \u001b[0mman\u001b[0m\u001b[1;33m)\u001b[0m \u001b[1;33m+\u001b[0m \u001b[0mwoman\u001b[0m\u001b[1;33m\u001b[0m\u001b[0m\n\u001b[0m",
      "\u001b[1;31mNameError\u001b[0m: name 'king' is not defined"
     ]
    }
   ],
   "source": [
    "queen = (king - man) + woman"
   ]
  },
  {
   "cell_type": "code",
   "execution_count": 29,
   "metadata": {},
   "outputs": [
    {
     "data": {
      "text/plain": [
       "[('queen', 0.7469182014465332)]"
      ]
     },
     "execution_count": 29,
     "metadata": {},
     "output_type": "execute_result"
    }
   ],
   "source": [
    "model2.wv.most_similar(positive=['woman', 'king'], negative=['man'], topn=1)"
   ]
  },
  {
   "cell_type": "code",
   "execution_count": 30,
   "metadata": {},
   "outputs": [
    {
     "data": {
      "text/plain": [
       "[('gangster', 0.7604638338088989)]"
      ]
     },
     "execution_count": 30,
     "metadata": {},
     "output_type": "execute_result"
    }
   ],
   "source": [
    "model2.wv.most_similar(positive=['man', 'queen'], negative=['woman'], topn=1)"
   ]
  },
  {
   "cell_type": "code",
   "execution_count": null,
   "metadata": {},
   "outputs": [],
   "source": []
  }
 ],
 "metadata": {
  "kernelspec": {
   "display_name": "Python 3",
   "language": "python",
   "name": "python3"
  },
  "language_info": {
   "codemirror_mode": {
    "name": "ipython",
    "version": 3
   },
   "file_extension": ".py",
   "mimetype": "text/x-python",
   "name": "python",
   "nbconvert_exporter": "python",
   "pygments_lexer": "ipython3",
   "version": "3.5.2"
  }
 },
 "nbformat": 4,
 "nbformat_minor": 2
}
